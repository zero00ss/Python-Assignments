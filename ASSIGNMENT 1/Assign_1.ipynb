{
 "cells": [
  {
   "cell_type": "code",
   "execution_count": 2,
   "id": "8352fb6e",
   "metadata": {},
   "outputs": [
    {
     "name": "stdout",
     "output_type": "stream",
     "text": [
      "aaaaa\n",
      " hello world \n",
      "    Hello world     \n",
      " hello world \n",
      "5\n",
      "False\n",
      "b' Hello world '\n",
      "False\n",
      " ***H***e***l***l***o*** ***w***o***r***l***d*** \n",
      "2\n",
      "Hello world\n"
     ]
    }
   ],
   "source": [
    "a = input(\"enter a input:\")\n",
    "b = input(\"enter b input:\") \n",
    "if a.isdigit():\n",
    "    a = int(a)\n",
    "if b.isdigit():\n",
    "    b = int(b)\n",
    "if type(a) == str and type(b) == int:\n",
    "    print(a * b)\n",
    "elif type(a) == int and type(b) == str:\n",
    "    print(b * a)\n",
    "elif type(a) == str and type(b) == str:\n",
    "    print(a + b)\n",
    "elif type(a) == int and type(b) == int:\n",
    "    print(a * b)\n",
    "else:\n",
    "    print(\"invalid input\")\n",
    "\n",
    "my_str = \" Hello world \"\n",
    "r = my_str.capitalize()\n",
    "s = my_str.center(20)\n",
    "print(r)\n",
    "print(s)\n",
    "r = my_str.casefold()\n",
    "print(r)\n",
    "print(my_str.find(\"o\"))\n",
    "print(my_str.isidentifier())\n",
    "k = my_str.encode(\"ascii\")\n",
    "print(k)\n",
    "f = my_str.endswith(\"ld\")\n",
    "print(f)\n",
    "l = \"***\".join(my_str)\n",
    "print(l)\n",
    "o = my_str.count('o')\n",
    "print(o)\n",
    "w = my_str.strip()\n",
    "print(w)\n"
   ]
  }
 ],
 "metadata": {
  "kernelspec": {
   "display_name": "Python 3",
   "language": "python",
   "name": "python3"
  },
  "language_info": {
   "codemirror_mode": {
    "name": "ipython",
    "version": 3
   },
   "file_extension": ".py",
   "mimetype": "text/x-python",
   "name": "python",
   "nbconvert_exporter": "python",
   "pygments_lexer": "ipython3",
   "version": "3.13.5"
  }
 },
 "nbformat": 4,
 "nbformat_minor": 5
}
